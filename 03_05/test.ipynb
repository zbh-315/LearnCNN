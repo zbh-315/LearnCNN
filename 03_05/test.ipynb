{
 "cells": [
  {
   "cell_type": "code",
   "execution_count": 4,
   "metadata": {},
   "outputs": [],
   "source": [
    "import cv2\n",
    "import numpy as np\n",
    "import matplotlib.pyplot as plt\n",
    "\n",
    "\n",
    "\n",
    "\n",
    "def cv_show(*img_path):\n",
    "    res = np.hstack(img_path)\n",
    "    cv2.imshow('img', res)\n",
    "    cv2.waitKey(0)    \n",
    "    cv2.destroyAllWindows() \n",
    "def plt_show(*args):\n",
    "    for i in range(len(args)):\n",
    "        plt.subplot(231+i), plt.imshow(args[i])"
   ]
  },
  {
   "cell_type": "code",
   "execution_count": 6,
   "metadata": {},
   "outputs": [],
   "source": [
    "vc = cv2.VideoCapture('test.mp4')\n",
    "\n",
    "# 检查是否打开正确\n",
    "if vc.isOpened(): \n",
    "    open, frame = vc.read()\n",
    "else:\n",
    "    open = False\n",
    "\n",
    "while open:\n",
    "    ret, frame = vc.read()\n",
    "    if frame is None:\n",
    "        break\n",
    "    if ret == True:\n",
    "        gray = cv2.cvtColor(frame,  cv2.COLOR_BGR2GRAY)\n",
    "        cv2.imshow('result', frame)\n",
    "        if cv2.waitKey(100) & 0xFF == 27:\n",
    "            break\n",
    "vc.release()\n",
    "cv2.destroyAllWindows()"
   ]
  },
  {
   "cell_type": "code",
   "execution_count": 8,
   "metadata": {},
   "outputs": [],
   "source": [
    "img = cv2.imread('AM.png',cv2.IMREAD_GRAYSCALE)\n",
    "sobelx = cv2.Sobel(img,cv2.CV_64F,1,0,ksize=3)\n",
    "sobelx = cv2.convertScaleAbs(sobelx)\n",
    "sobely = cv2.Sobel(img,cv2.CV_64F,0,1,ksize=3)\n",
    "sobely = cv2.convertScaleAbs(sobely)\n",
    "sobelxy = cv2.addWeighted(sobelx,0.5,sobely,0.5,0)\n",
    "\n",
    "\n",
    "sobelxy2 = cv2.Sobel(img,cv2.CV_64F,1,1,ksize=3)\n",
    "sobelxy2 = cv2.convertScaleAbs(sobelxy2)\n",
    "cv_show(img,sobelxy,sobelxy2)\n"
   ]
  }
 ],
 "metadata": {
  "kernelspec": {
   "display_name": "Python 3",
   "language": "python",
   "name": "python3"
  },
  "language_info": {
   "codemirror_mode": {
    "name": "ipython",
    "version": 3
   },
   "file_extension": ".py",
   "mimetype": "text/x-python",
   "name": "python",
   "nbconvert_exporter": "python",
   "pygments_lexer": "ipython3",
   "version": "3.7.0"
  }
 },
 "nbformat": 4,
 "nbformat_minor": 2
}
